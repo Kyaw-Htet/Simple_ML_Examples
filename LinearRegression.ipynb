{
 "cells": [
  {
   "cell_type": "markdown",
   "metadata": {},
   "source": [
    "# Import Packages"
   ]
  },
  {
   "cell_type": "code",
   "execution_count": 1,
   "metadata": {},
   "outputs": [],
   "source": [
    "# !pip3 install xlrd\n",
    "import numpy as np\n",
    "import pandas as pd\n",
    "import matplotlib.pyplot as plt"
   ]
  },
  {
   "cell_type": "markdown",
   "metadata": {},
   "source": [
    "# Dataset\n",
    "Dataset was downloaded from Singapore Government Statics Website at\n",
    "https://www.singstat.gov.sg/find-data/search-by-theme/population/geographic-distribution/latest-data"
   ]
  },
  {
   "cell_type": "code",
   "execution_count": 2,
   "metadata": {},
   "outputs": [
    {
     "name": "stdout",
     "output_type": "stream",
     "text": [
      "Data from the past  19  years\n"
     ]
    }
   ],
   "source": [
    "df = []\n",
    "for year in range(2000,2019):   \n",
    "    df.append(pd.read_excel(r'data.xls', sheet_name=str(year)))\n",
    "print('Data from the past ', len(df), ' years')"
   ]
  },
  {
   "cell_type": "markdown",
   "metadata": {},
   "source": [
    "# Prepocessing Data\n",
    "Population trend in each age range is organized"
   ]
  },
  {
   "cell_type": "code",
   "execution_count": 3,
   "metadata": {},
   "outputs": [
    {
     "data": {
      "text/html": [
       "<div>\n",
       "<style scoped>\n",
       "    .dataframe tbody tr th:only-of-type {\n",
       "        vertical-align: middle;\n",
       "    }\n",
       "\n",
       "    .dataframe tbody tr th {\n",
       "        vertical-align: top;\n",
       "    }\n",
       "\n",
       "    .dataframe thead th {\n",
       "        text-align: right;\n",
       "    }\n",
       "</style>\n",
       "<table border=\"1\" class=\"dataframe\">\n",
       "  <thead>\n",
       "    <tr style=\"text-align: right;\">\n",
       "      <th></th>\n",
       "      <th>Total</th>\n",
       "      <th>0 - 4</th>\n",
       "      <th>5 - 9</th>\n",
       "      <th>10 - 14</th>\n",
       "      <th>15 - 19</th>\n",
       "      <th>20 - 24</th>\n",
       "      <th>25 - 29</th>\n",
       "      <th>30 - 34</th>\n",
       "      <th>35 - 39</th>\n",
       "      <th>40 - 44</th>\n",
       "      <th>45 - 49</th>\n",
       "      <th>50 - 54</th>\n",
       "      <th>55 - 59</th>\n",
       "      <th>60 - 64</th>\n",
       "      <th>65 - 69</th>\n",
       "      <th>70 - 74</th>\n",
       "      <th>75 - 79</th>\n",
       "      <th>80 - 84</th>\n",
       "      <th>85 &amp; Over</th>\n",
       "    </tr>\n",
       "  </thead>\n",
       "  <tbody>\n",
       "    <tr>\n",
       "      <th>2000</th>\n",
       "      <td>3273360</td>\n",
       "      <td>225710</td>\n",
       "      <td>256570</td>\n",
       "      <td>235350</td>\n",
       "      <td>211290</td>\n",
       "      <td>212240</td>\n",
       "      <td>267160</td>\n",
       "      <td>290290</td>\n",
       "      <td>322620</td>\n",
       "      <td>312420</td>\n",
       "      <td>262200</td>\n",
       "      <td>206660</td>\n",
       "      <td>125060</td>\n",
       "      <td>110500</td>\n",
       "      <td>88310</td>\n",
       "      <td>66950</td>\n",
       "      <td>39640</td>\n",
       "      <td>22880</td>\n",
       "      <td>17520</td>\n",
       "    </tr>\n",
       "    <tr>\n",
       "      <th>2001</th>\n",
       "      <td>3325900</td>\n",
       "      <td>222990</td>\n",
       "      <td>254080</td>\n",
       "      <td>246970</td>\n",
       "      <td>210900</td>\n",
       "      <td>214640</td>\n",
       "      <td>262750</td>\n",
       "      <td>286690</td>\n",
       "      <td>322880</td>\n",
       "      <td>318000</td>\n",
       "      <td>274570</td>\n",
       "      <td>223840</td>\n",
       "      <td>125450</td>\n",
       "      <td>118510</td>\n",
       "      <td>89680</td>\n",
       "      <td>69050</td>\n",
       "      <td>42500</td>\n",
       "      <td>23900</td>\n",
       "      <td>18520</td>\n",
       "    </tr>\n",
       "    <tr>\n",
       "      <th>2002</th>\n",
       "      <td>3382940</td>\n",
       "      <td>217800</td>\n",
       "      <td>253190</td>\n",
       "      <td>257690</td>\n",
       "      <td>209690</td>\n",
       "      <td>216310</td>\n",
       "      <td>262720</td>\n",
       "      <td>289180</td>\n",
       "      <td>320750</td>\n",
       "      <td>320860</td>\n",
       "      <td>286740</td>\n",
       "      <td>230370</td>\n",
       "      <td>143180</td>\n",
       "      <td>123440</td>\n",
       "      <td>89590</td>\n",
       "      <td>70640</td>\n",
       "      <td>45830</td>\n",
       "      <td>25210</td>\n",
       "      <td>19750</td>\n",
       "    </tr>\n",
       "    <tr>\n",
       "      <th>2003</th>\n",
       "      <td>3366890</td>\n",
       "      <td>209900</td>\n",
       "      <td>247040</td>\n",
       "      <td>259120</td>\n",
       "      <td>214070</td>\n",
       "      <td>215410</td>\n",
       "      <td>250880</td>\n",
       "      <td>287300</td>\n",
       "      <td>310640</td>\n",
       "      <td>318280</td>\n",
       "      <td>292790</td>\n",
       "      <td>233180</td>\n",
       "      <td>157890</td>\n",
       "      <td>121720</td>\n",
       "      <td>89880</td>\n",
       "      <td>70000</td>\n",
       "      <td>42860</td>\n",
       "      <td>25780</td>\n",
       "      <td>20110</td>\n",
       "    </tr>\n",
       "    <tr>\n",
       "      <th>2004</th>\n",
       "      <td>3413270</td>\n",
       "      <td>204820</td>\n",
       "      <td>240520</td>\n",
       "      <td>257280</td>\n",
       "      <td>227420</td>\n",
       "      <td>215220</td>\n",
       "      <td>246710</td>\n",
       "      <td>290490</td>\n",
       "      <td>302910</td>\n",
       "      <td>321060</td>\n",
       "      <td>300670</td>\n",
       "      <td>244110</td>\n",
       "      <td>174790</td>\n",
       "      <td>122740</td>\n",
       "      <td>96010</td>\n",
       "      <td>72490</td>\n",
       "      <td>47880</td>\n",
       "      <td>26860</td>\n",
       "      <td>21310</td>\n",
       "    </tr>\n",
       "    <tr>\n",
       "      <th>2005</th>\n",
       "      <td>3467810</td>\n",
       "      <td>199530</td>\n",
       "      <td>237240</td>\n",
       "      <td>258550</td>\n",
       "      <td>234920</td>\n",
       "      <td>218950</td>\n",
       "      <td>247800</td>\n",
       "      <td>293410</td>\n",
       "      <td>299150</td>\n",
       "      <td>321470</td>\n",
       "      <td>307550</td>\n",
       "      <td>254170</td>\n",
       "      <td>197800</td>\n",
       "      <td>117580</td>\n",
       "      <td>101090</td>\n",
       "      <td>76550</td>\n",
       "      <td>51600</td>\n",
       "      <td>27880</td>\n",
       "      <td>22580</td>\n",
       "    </tr>\n",
       "    <tr>\n",
       "      <th>2006</th>\n",
       "      <td>3525890</td>\n",
       "      <td>194480</td>\n",
       "      <td>235200</td>\n",
       "      <td>256480</td>\n",
       "      <td>246550</td>\n",
       "      <td>219630</td>\n",
       "      <td>251660</td>\n",
       "      <td>293250</td>\n",
       "      <td>298200</td>\n",
       "      <td>323020</td>\n",
       "      <td>312860</td>\n",
       "      <td>266990</td>\n",
       "      <td>214600</td>\n",
       "      <td>118240</td>\n",
       "      <td>108840</td>\n",
       "      <td>78320</td>\n",
       "      <td>54410</td>\n",
       "      <td>29440</td>\n",
       "      <td>23720</td>\n",
       "    </tr>\n",
       "    <tr>\n",
       "      <th>2007</th>\n",
       "      <td>3583080</td>\n",
       "      <td>193630</td>\n",
       "      <td>229540</td>\n",
       "      <td>255290</td>\n",
       "      <td>257300</td>\n",
       "      <td>218490</td>\n",
       "      <td>254520</td>\n",
       "      <td>294450</td>\n",
       "      <td>301970</td>\n",
       "      <td>321050</td>\n",
       "      <td>315550</td>\n",
       "      <td>279220</td>\n",
       "      <td>220980</td>\n",
       "      <td>135500</td>\n",
       "      <td>113760</td>\n",
       "      <td>78630</td>\n",
       "      <td>56730</td>\n",
       "      <td>31520</td>\n",
       "      <td>24950</td>\n",
       "    </tr>\n",
       "    <tr>\n",
       "      <th>2008</th>\n",
       "      <td>3642660</td>\n",
       "      <td>193890</td>\n",
       "      <td>223620</td>\n",
       "      <td>253800</td>\n",
       "      <td>262860</td>\n",
       "      <td>225390</td>\n",
       "      <td>263110</td>\n",
       "      <td>289820</td>\n",
       "      <td>307240</td>\n",
       "      <td>317360</td>\n",
       "      <td>318080</td>\n",
       "      <td>289190</td>\n",
       "      <td>229360</td>\n",
       "      <td>153160</td>\n",
       "      <td>115190</td>\n",
       "      <td>81310</td>\n",
       "      <td>59000</td>\n",
       "      <td>33880</td>\n",
       "      <td>26420</td>\n",
       "    </tr>\n",
       "    <tr>\n",
       "      <th>2009</th>\n",
       "      <td>3733880</td>\n",
       "      <td>197790</td>\n",
       "      <td>221440</td>\n",
       "      <td>248630</td>\n",
       "      <td>262780</td>\n",
       "      <td>241750</td>\n",
       "      <td>274310</td>\n",
       "      <td>297240</td>\n",
       "      <td>317310</td>\n",
       "      <td>312980</td>\n",
       "      <td>322500</td>\n",
       "      <td>297380</td>\n",
       "      <td>239950</td>\n",
       "      <td>169700</td>\n",
       "      <td>116260</td>\n",
       "      <td>87430</td>\n",
       "      <td>61490</td>\n",
       "      <td>37140</td>\n",
       "      <td>27810</td>\n",
       "    </tr>\n",
       "    <tr>\n",
       "      <th>2010</th>\n",
       "      <td>3771720</td>\n",
       "      <td>194430</td>\n",
       "      <td>215680</td>\n",
       "      <td>244300</td>\n",
       "      <td>263750</td>\n",
       "      <td>247190</td>\n",
       "      <td>272640</td>\n",
       "      <td>298690</td>\n",
       "      <td>320020</td>\n",
       "      <td>309440</td>\n",
       "      <td>323460</td>\n",
       "      <td>303040</td>\n",
       "      <td>248700</td>\n",
       "      <td>192000</td>\n",
       "      <td>111510</td>\n",
       "      <td>92620</td>\n",
       "      <td>65180</td>\n",
       "      <td>39840</td>\n",
       "      <td>29240</td>\n",
       "    </tr>\n",
       "    <tr>\n",
       "      <th>2011</th>\n",
       "      <td>3789250</td>\n",
       "      <td>188250</td>\n",
       "      <td>208120</td>\n",
       "      <td>240540</td>\n",
       "      <td>260740</td>\n",
       "      <td>255070</td>\n",
       "      <td>262610</td>\n",
       "      <td>297560</td>\n",
       "      <td>316160</td>\n",
       "      <td>306610</td>\n",
       "      <td>323990</td>\n",
       "      <td>308130</td>\n",
       "      <td>260680</td>\n",
       "      <td>208160</td>\n",
       "      <td>112400</td>\n",
       "      <td>100070</td>\n",
       "      <td>66910</td>\n",
       "      <td>42150</td>\n",
       "      <td>31120</td>\n",
       "    </tr>\n",
       "    <tr>\n",
       "      <th>2012</th>\n",
       "      <td>3818210</td>\n",
       "      <td>186670</td>\n",
       "      <td>206320</td>\n",
       "      <td>233320</td>\n",
       "      <td>258860</td>\n",
       "      <td>264510</td>\n",
       "      <td>254580</td>\n",
       "      <td>295400</td>\n",
       "      <td>313970</td>\n",
       "      <td>308820</td>\n",
       "      <td>320930</td>\n",
       "      <td>310380</td>\n",
       "      <td>271820</td>\n",
       "      <td>214000</td>\n",
       "      <td>128880</td>\n",
       "      <td>104410</td>\n",
       "      <td>67680</td>\n",
       "      <td>44120</td>\n",
       "      <td>33550</td>\n",
       "    </tr>\n",
       "    <tr>\n",
       "      <th>2013</th>\n",
       "      <td>3844750</td>\n",
       "      <td>183300</td>\n",
       "      <td>205700</td>\n",
       "      <td>226240</td>\n",
       "      <td>255070</td>\n",
       "      <td>266890</td>\n",
       "      <td>255620</td>\n",
       "      <td>296870</td>\n",
       "      <td>305500</td>\n",
       "      <td>312580</td>\n",
       "      <td>316340</td>\n",
       "      <td>312990</td>\n",
       "      <td>281070</td>\n",
       "      <td>222150</td>\n",
       "      <td>145820</td>\n",
       "      <td>105750</td>\n",
       "      <td>70620</td>\n",
       "      <td>46200</td>\n",
       "      <td>36060</td>\n",
       "    </tr>\n",
       "    <tr>\n",
       "      <th>2014</th>\n",
       "      <td>3870740</td>\n",
       "      <td>181370</td>\n",
       "      <td>205790</td>\n",
       "      <td>220800</td>\n",
       "      <td>247340</td>\n",
       "      <td>263920</td>\n",
       "      <td>265660</td>\n",
       "      <td>292290</td>\n",
       "      <td>302030</td>\n",
       "      <td>316020</td>\n",
       "      <td>308530</td>\n",
       "      <td>315500</td>\n",
       "      <td>288390</td>\n",
       "      <td>231500</td>\n",
       "      <td>161200</td>\n",
       "      <td>106820</td>\n",
       "      <td>76290</td>\n",
       "      <td>48420</td>\n",
       "      <td>38880</td>\n",
       "    </tr>\n",
       "    <tr>\n",
       "      <th>2015</th>\n",
       "      <td>3902690</td>\n",
       "      <td>183580</td>\n",
       "      <td>204450</td>\n",
       "      <td>214390</td>\n",
       "      <td>242900</td>\n",
       "      <td>264130</td>\n",
       "      <td>271030</td>\n",
       "      <td>290620</td>\n",
       "      <td>301070</td>\n",
       "      <td>316760</td>\n",
       "      <td>303410</td>\n",
       "      <td>315090</td>\n",
       "      <td>295060</td>\n",
       "      <td>240490</td>\n",
       "      <td>182430</td>\n",
       "      <td>102630</td>\n",
       "      <td>81210</td>\n",
       "      <td>51790</td>\n",
       "      <td>41660</td>\n",
       "    </tr>\n",
       "    <tr>\n",
       "      <th>2016</th>\n",
       "      <td>3933560</td>\n",
       "      <td>187160</td>\n",
       "      <td>201510</td>\n",
       "      <td>207500</td>\n",
       "      <td>239770</td>\n",
       "      <td>260850</td>\n",
       "      <td>279990</td>\n",
       "      <td>285540</td>\n",
       "      <td>302000</td>\n",
       "      <td>313450</td>\n",
       "      <td>301180</td>\n",
       "      <td>315600</td>\n",
       "      <td>299590</td>\n",
       "      <td>251850</td>\n",
       "      <td>198020</td>\n",
       "      <td>103800</td>\n",
       "      <td>87960</td>\n",
       "      <td>53560</td>\n",
       "      <td>44240</td>\n",
       "    </tr>\n",
       "    <tr>\n",
       "      <th>2017</th>\n",
       "      <td>3965800</td>\n",
       "      <td>187650</td>\n",
       "      <td>200580</td>\n",
       "      <td>206250</td>\n",
       "      <td>232970</td>\n",
       "      <td>259070</td>\n",
       "      <td>290200</td>\n",
       "      <td>279340</td>\n",
       "      <td>300960</td>\n",
       "      <td>311480</td>\n",
       "      <td>303460</td>\n",
       "      <td>312810</td>\n",
       "      <td>301680</td>\n",
       "      <td>262650</td>\n",
       "      <td>203970</td>\n",
       "      <td>119490</td>\n",
       "      <td>91950</td>\n",
       "      <td>54340</td>\n",
       "      <td>46940</td>\n",
       "    </tr>\n",
       "    <tr>\n",
       "      <th>2018</th>\n",
       "      <td>3994280</td>\n",
       "      <td>185530</td>\n",
       "      <td>199070</td>\n",
       "      <td>206530</td>\n",
       "      <td>226520</td>\n",
       "      <td>255520</td>\n",
       "      <td>291630</td>\n",
       "      <td>281400</td>\n",
       "      <td>303720</td>\n",
       "      <td>303640</td>\n",
       "      <td>307840</td>\n",
       "      <td>308970</td>\n",
       "      <td>304390</td>\n",
       "      <td>271690</td>\n",
       "      <td>212100</td>\n",
       "      <td>135550</td>\n",
       "      <td>93330</td>\n",
       "      <td>57100</td>\n",
       "      <td>49780</td>\n",
       "    </tr>\n",
       "  </tbody>\n",
       "</table>\n",
       "</div>"
      ],
      "text/plain": [
       "        Total   0 - 4   5 - 9 10 - 14 15 - 19 20 - 24 25 - 29 30 - 34 35 - 39  \\\n",
       "2000  3273360  225710  256570  235350  211290  212240  267160  290290  322620   \n",
       "2001  3325900  222990  254080  246970  210900  214640  262750  286690  322880   \n",
       "2002  3382940  217800  253190  257690  209690  216310  262720  289180  320750   \n",
       "2003  3366890  209900  247040  259120  214070  215410  250880  287300  310640   \n",
       "2004  3413270  204820  240520  257280  227420  215220  246710  290490  302910   \n",
       "2005  3467810  199530  237240  258550  234920  218950  247800  293410  299150   \n",
       "2006  3525890  194480  235200  256480  246550  219630  251660  293250  298200   \n",
       "2007  3583080  193630  229540  255290  257300  218490  254520  294450  301970   \n",
       "2008  3642660  193890  223620  253800  262860  225390  263110  289820  307240   \n",
       "2009  3733880  197790  221440  248630  262780  241750  274310  297240  317310   \n",
       "2010  3771720  194430  215680  244300  263750  247190  272640  298690  320020   \n",
       "2011  3789250  188250  208120  240540  260740  255070  262610  297560  316160   \n",
       "2012  3818210  186670  206320  233320  258860  264510  254580  295400  313970   \n",
       "2013  3844750  183300  205700  226240  255070  266890  255620  296870  305500   \n",
       "2014  3870740  181370  205790  220800  247340  263920  265660  292290  302030   \n",
       "2015  3902690  183580  204450  214390  242900  264130  271030  290620  301070   \n",
       "2016  3933560  187160  201510  207500  239770  260850  279990  285540  302000   \n",
       "2017  3965800  187650  200580  206250  232970  259070  290200  279340  300960   \n",
       "2018  3994280  185530  199070  206530  226520  255520  291630  281400  303720   \n",
       "\n",
       "     40 - 44 45 - 49 50 - 54 55 - 59 60 - 64 65 - 69 70 - 74 75 - 79 80 - 84  \\\n",
       "2000  312420  262200  206660  125060  110500   88310   66950   39640   22880   \n",
       "2001  318000  274570  223840  125450  118510   89680   69050   42500   23900   \n",
       "2002  320860  286740  230370  143180  123440   89590   70640   45830   25210   \n",
       "2003  318280  292790  233180  157890  121720   89880   70000   42860   25780   \n",
       "2004  321060  300670  244110  174790  122740   96010   72490   47880   26860   \n",
       "2005  321470  307550  254170  197800  117580  101090   76550   51600   27880   \n",
       "2006  323020  312860  266990  214600  118240  108840   78320   54410   29440   \n",
       "2007  321050  315550  279220  220980  135500  113760   78630   56730   31520   \n",
       "2008  317360  318080  289190  229360  153160  115190   81310   59000   33880   \n",
       "2009  312980  322500  297380  239950  169700  116260   87430   61490   37140   \n",
       "2010  309440  323460  303040  248700  192000  111510   92620   65180   39840   \n",
       "2011  306610  323990  308130  260680  208160  112400  100070   66910   42150   \n",
       "2012  308820  320930  310380  271820  214000  128880  104410   67680   44120   \n",
       "2013  312580  316340  312990  281070  222150  145820  105750   70620   46200   \n",
       "2014  316020  308530  315500  288390  231500  161200  106820   76290   48420   \n",
       "2015  316760  303410  315090  295060  240490  182430  102630   81210   51790   \n",
       "2016  313450  301180  315600  299590  251850  198020  103800   87960   53560   \n",
       "2017  311480  303460  312810  301680  262650  203970  119490   91950   54340   \n",
       "2018  303640  307840  308970  304390  271690  212100  135550   93330   57100   \n",
       "\n",
       "     85 & Over  \n",
       "2000     17520  \n",
       "2001     18520  \n",
       "2002     19750  \n",
       "2003     20110  \n",
       "2004     21310  \n",
       "2005     22580  \n",
       "2006     23720  \n",
       "2007     24950  \n",
       "2008     26420  \n",
       "2009     27810  \n",
       "2010     29240  \n",
       "2011     31120  \n",
       "2012     33550  \n",
       "2013     36060  \n",
       "2014     38880  \n",
       "2015     41660  \n",
       "2016     44240  \n",
       "2017     46940  \n",
       "2018     49780  "
      ]
     },
     "execution_count": 3,
     "metadata": {},
     "output_type": "execute_result"
    }
   ],
   "source": [
    "summary = pd.DataFrame(df[0].loc[3,:].values[2:].reshape([1,19]),columns=df[0].loc[1,:].values[2:],index=[2000])\n",
    "for i in range (1,19):    \n",
    "    summary = summary.append(pd.DataFrame(df[i].loc[3,:].values[2:].reshape([1,19]),columns=df[0].loc[1,:].values[2:],index=[2000+i]))\n",
    "summary"
   ]
  },
  {
   "cell_type": "markdown",
   "metadata": {},
   "source": [
    "# Plot the population trends\n",
    "    . Total Population \n",
    "    . From age 0 to 19 \n",
    "    . From age 20 to 39 \n",
    "    . From age 40 to 59 \n",
    "    . From age 60 to 79 \n",
    "    . Over 80 "
   ]
  },
  {
   "cell_type": "code",
   "execution_count": 4,
   "metadata": {},
   "outputs": [
    {
     "name": "stdout",
     "output_type": "stream",
     "text": [
      "Plotting : Total\n"
     ]
    },
    {
     "data": {
      "image/png": "[encoded data removed]",
      "text/plain": [
       "<Figure size 432x288 with 1 Axes>"
      ]
     },
     "metadata": {
      "needs_background": "light"
     },
     "output_type": "display_data"
    },
    {
     "name": "stdout",
     "output_type": "stream",
     "text": [
      "Plotting from 0 - 4 to 15 - 19\n"
     ]
    },
    {
     "data": {
      "image/png": "[encoded data removed]",
      "text/plain": [
       "<Figure size 432x288 with 1 Axes>"
      ]
     },
     "metadata": {
      "needs_background": "light"
     },
     "output_type": "display_data"
    },
    {
     "name": "stdout",
     "output_type": "stream",
     "text": [
      "Plotting from 20 - 24 to 35 - 39\n"
     ]
    },
    {
     "data": {
      "image/png": "[encoded data removed]",
      "text/plain": [
       "<Figure size 432x288 with 1 Axes>"
      ]
     },
     "metadata": {
      "needs_background": "light"
     },
     "output_type": "display_data"
    },
    {
     "name": "stdout",
     "output_type": "stream",
     "text": [
      "Plotting from 40 - 44 to 55 - 59\n"
     ]
    },
    {
     "data": {
      "image/png": "[encoded data removed]",
      "text/plain": [
       "<Figure size 432x288 with 1 Axes>"
      ]
     },
     "metadata": {
      "needs_background": "light"
     },
     "output_type": "display_data"
    },
    {
     "name": "stdout",
     "output_type": "stream",
     "text": [
      "Plotting from 60 - 64 to 75 - 79\n"
     ]
    },
    {
     "data": {
      "image/png": "[encoded data removed]",
      "text/plain": [
       "<Figure size 432x288 with 1 Axes>"
      ]
     },
     "metadata": {
      "needs_background": "light"
     },
     "output_type": "display_data"
    },
    {
     "name": "stdout",
     "output_type": "stream",
     "text": [
      "Plotting from 80 - 84 to 85 & Over\n"
     ]
    },
    {
     "data": {
      "image/png": "[encoded data removed]",
      "text/plain": [
       "<Figure size 432x288 with 1 Axes>"
      ]
     },
     "metadata": {
      "needs_background": "light"
     },
     "output_type": "display_data"
    }
   ],
   "source": [
    "x = summary.index.values\n",
    "# Total Population\n",
    "y = []\n",
    "label = []\n",
    "label.append('Plotting : ' + str(summary.columns[0]))\n",
    "print(label[0])\n",
    "y.append(summary.values[:,0])\n",
    "plt.scatter(x,y[0])\n",
    "plt.show()\n",
    "\n",
    "for i in range (1,14,4):    \n",
    "    y.append(summary.values[:,i])\n",
    "    y_idx = len(y)\n",
    "    label.append('Plotting from ' + str(summary.columns[i]) + ' to ' + str(summary.columns[i+3]))\n",
    "    print(label[y_idx-1])    \n",
    "    for j in range(i,i+4):\n",
    "        y[y_idx-1] = y[y_idx-1]+summary.values[:,j]\n",
    "    plt.scatter(x,y[y_idx-1])\n",
    "    plt.show()\n",
    "y.append(summary.values[:,17] + summary.values[:,18])\n",
    "y_idx = len(y)\n",
    "label.append('Plotting from ' + str(summary.columns[17]) + ' to ' + str(summary.columns[18]))\n",
    "print(label[y_idx-1])    \n",
    "plt.scatter(x,y[y_idx-1])\n",
    "plt.show()"
   ]
  },
  {
   "cell_type": "markdown",
   "metadata": {},
   "source": [
    "# Find coefficients\n",
    "3 degree polynomial fittng  \n",
    "y_pred = p(0) * x^3 + p(1) * x^2 + p(2) * x + p(3)"
   ]
  },
  {
   "cell_type": "code",
   "execution_count": 5,
   "metadata": {},
   "outputs": [
    {
     "name": "stdout",
     "output_type": "stream",
     "text": [
      "Plotting : Total\n"
     ]
    },
    {
     "data": {
      "image/png": "[encoded data removed]",
      "text/plain": [
       "<Figure size 432x288 with 1 Axes>"
      ]
     },
     "metadata": {
      "needs_background": "light"
     },
     "output_type": "display_data"
    },
    {
     "name": "stdout",
     "output_type": "stream",
     "text": [
      "Plotting from 0 - 4 to 15 - 19\n"
     ]
    },
    {
     "data": {
      "image/png": "[encoded data removed]",
      "text/plain": [
       "<Figure size 432x288 with 1 Axes>"
      ]
     },
     "metadata": {
      "needs_background": "light"
     },
     "output_type": "display_data"
    },
    {
     "name": "stdout",
     "output_type": "stream",
     "text": [
      "Plotting from 20 - 24 to 35 - 39\n"
     ]
    },
    {
     "data": {
      "image/png": "[encoded data removed]",
      "text/plain": [
       "<Figure size 432x288 with 1 Axes>"
      ]
     },
     "metadata": {
      "needs_background": "light"
     },
     "output_type": "display_data"
    },
    {
     "name": "stdout",
     "output_type": "stream",
     "text": [
      "Plotting from 40 - 44 to 55 - 59\n"
     ]
    },
    {
     "data": {
      "image/png": "[encoded data removed]",
      "text/plain": [
       "<Figure size 432x288 with 1 Axes>"
      ]
     },
     "metadata": {
      "needs_background": "light"
     },
     "output_type": "display_data"
    },
    {
     "name": "stdout",
     "output_type": "stream",
     "text": [
      "Plotting from 60 - 64 to 75 - 79\n"
     ]
    },
    {
     "data": {
      "image/png": "[encoded data removed]",
      "text/plain": [
       "<Figure size 432x288 with 1 Axes>"
      ]
     },
     "metadata": {
      "needs_background": "light"
     },
     "output_type": "display_data"
    },
    {
     "name": "stdout",
     "output_type": "stream",
     "text": [
      "Plotting from 80 - 84 to 85 & Over\n"
     ]
    },
    {
     "data": {
      "image/png": "[encoded data removed]",
      "text/plain": [
       "<Figure size 432x288 with 1 Axes>"
      ]
     },
     "metadata": {
      "needs_background": "light"
     },
     "output_type": "display_data"
    }
   ],
   "source": [
    "degree = 3\n",
    "for i in range(0, 6):\n",
    "    print(label[i])\n",
    "    y[i] = y[i].astype('float64') \n",
    "    coff = np.polyfit(x,y[i],degree)\n",
    "    model = np.poly1d(coff)\n",
    "    plt.plot(x,y[i],'.',x,model(x),'-')\n",
    "    plt.show()"
   ]
  },
  {
   "cell_type": "markdown",
   "metadata": {},
   "source": [
    "# Conclusion\n",
    "    . Overall population has been growing\n",
    "    . Population group of ages below 20 has been dropping consistently.\n",
    "    . Population group of ages between 20 and 39 has been intervenced between 2007 and 2010.\n",
    "    . Population group of ages between 40 and 59 started declining recent years.\n",
    "    . Population group of ages above 60 has been growing consistently."
   ]
  },
  {
   "cell_type": "code",
   "execution_count": null,
   "metadata": {},
   "outputs": [],
   "source": []
  }
 ],
 "metadata": {
  "kernelspec": {
   "display_name": "Python 3",
   "language": "python",
   "name": "python3"
  },
  "language_info": {
   "codemirror_mode": {
    "name": "ipython",
    "version": 3
   },
   "file_extension": ".py",
   "mimetype": "text/x-python",
   "name": "python",
   "nbconvert_exporter": "python",
   "pygments_lexer": "ipython3",
   "version": "3.6.8"
  }
 },
 "nbformat": 4,
 "nbformat_minor": 2
}
